{
 "cells": [
  {
   "cell_type": "code",
   "execution_count": 11,
   "id": "6e8b59d9-d588-495d-8b7f-92790f54d7ed",
   "metadata": {
    "scrolled": false,
    "ExecuteTime": {
     "end_time": "2024-02-26T13:05:08.408563Z",
     "start_time": "2024-02-26T13:04:51.586282Z"
    }
   },
   "outputs": [
    {
     "name": "stderr",
     "output_type": "stream",
     "text": [
      "Special tokens have been added in the vocabulary, make sure the associated word embeddings are fine-tuned or trained.\n"
     ]
    }
   ],
   "source": [
    "from PIL import Image\n",
    "from transformers import AutoProcessor, Kosmos2ForConditionalGeneration\n",
    "import pandas as pd\n",
    "import time\n",
    "\n",
    "model = Kosmos2ForConditionalGeneration.from_pretrained(\"microsoft/kosmos-2-patch14-224\")\n",
    "processor = AutoProcessor.from_pretrained(\"microsoft/kosmos-2-patch14-224\")"
   ]
  },
  {
   "cell_type": "code",
   "execution_count": 12,
   "id": "a49fac59-b290-4e88-81a3-59d1136aba6a",
   "metadata": {
    "ExecuteTime": {
     "end_time": "2024-02-26T13:05:47.591603Z",
     "start_time": "2024-02-26T13:05:08.414323Z"
    }
   },
   "outputs": [
    {
     "name": "stdout",
     "output_type": "stream",
     "text": [
      "61\n",
      "Elapsed: 39.13841891288757 seconds\n"
     ]
    }
   ],
   "source": [
    "#####Daten einlesen####\n",
    "df_aktbilder = pd.read_csv(\"/Users/int-veen/Documents/CulturalAnalytics/data/filtered_genres_nude_painting.csv\")\n",
    "default_path = \"/Users/int-veen/Documents/CulturalAnalytics/data/zielordner_nude_painting/\"\n",
    "\n",
    "prompt_result = []\n",
    "start = time.time()\n",
    "\n",
    "for filename in list(df_aktbilder.file_name)[:1]: #[1000:2000]\n",
    "    try: \n",
    "        path = default_path + filename\n",
    "        image = Image.open(path)\n",
    "    \n",
    "    \n",
    "        prompt = \"<grounding> Describe the pose of the person/persons depicted.  Which gender would you assign to them?\"\n",
    "        inputs = processor(text=prompt, images=image, return_tensors= \"pt\")\n",
    "        \n",
    "        generated_ids = model.generate(\n",
    "            pixel_values=inputs[\"pixel_values\"],\n",
    "            input_ids=inputs[\"input_ids\"],\n",
    "            attention_mask=inputs[\"attention_mask\"],\n",
    "            image_embeds=None,\n",
    "            image_embeds_position_mask=inputs[\"image_embeds_position_mask\"],\n",
    "            use_cache=True,\n",
    "            max_new_tokens=64,\n",
    "        )\n",
    "        generated_text = processor.batch_decode(generated_ids, skip_special_tokens=True)[0]\n",
    "        caption, entities = processor.post_process_generation(generated_text) \n",
    "        print(len(caption.split(\" \")))\n",
    "        \n",
    "        result = [filename, prompt.replace(\"<grounding> \",\"\"), caption.replace(prompt.replace(\"<grounding> \",\"\"),\"\")] \n",
    "        prompt_result.append(result)\n",
    "    except Exception as e:\n",
    "        print(f\"Fehler bei Datei: {filename}\")\n",
    "\n",
    "end = time.time()\n",
    "elapsed = end - start\n",
    "print(f\"Elapsed: {elapsed} seconds\")"
   ]
  },
  {
   "cell_type": "code",
   "outputs": [
    {
     "name": "stdout",
     "output_type": "stream",
     "text": [
      "[['3338-lo-scheggia-desco-da-parto-con-due-fanciulli-che-giocano.JPG!Large.JPG', 'Describe the pose of the person/persons depicted.  Which gender would you assign to them?', 'Describe the pose of the person/persons depicted. Which gender would you assign to them? Based on the image, I would assign the person depicted to a male. The two naked boys are standing in a circle, with one boy holding a sword and the other boy holding a shield. This suggests that they are engaged in a battle or a duel,']]\n",
      "df\n"
     ]
    }
   ],
   "source": [
    "print(prompt_result)\n",
    "df = pd.DataFrame(prompt_result)\n",
    "df.to_csv(\"/Users/int-veen/Documents/CulturalAnalytics/src/kosmos/prompt_result.csv\")"
   ],
   "metadata": {
    "collapsed": false,
    "ExecuteTime": {
     "end_time": "2024-02-26T13:05:47.600474Z",
     "start_time": "2024-02-26T13:05:47.584847Z"
    }
   },
   "id": "a459c59311d9293f",
   "execution_count": 13
  },
  {
   "cell_type": "code",
   "execution_count": 4,
   "id": "aab0252f-e8aa-40ae-80e5-3093e9232fd3",
   "metadata": {
    "ExecuteTime": {
     "end_time": "2024-02-26T12:15:55.754509Z",
     "start_time": "2024-02-26T12:15:55.738446Z"
    }
   },
   "outputs": [],
   "source": [
    "#from PIL import ImageDraw\n",
    "#for label, sentence_pos, coordinates in entities:\n",
    "#  for a,b,c,d in coordinates:\n",
    "#      draw = ImageDraw.Draw(image)\n",
    "#      w,h = image.size\n",
    "#      draw.text((a*w+5,b*h+5),label + f\" {sentence_pos}\", fill=\"black\")\n",
    "#      draw.text((a*w+4,b*h+4),label + f\" {sentence_pos}\", fill=\"white\")\n",
    "#      draw.rectangle((a*w,b*h,c*w,d*h), outline =\"red\", width=3)\n",
    "#      draw.rectangle((a*w,b*h,c*w,d*h), outline =\"white\", width=2)\n",
    "#      draw.rectangle((a*w,b*h,c*w,d*h), outline =\"black\", width=1)\n",
    "#image.show()\n",
    "#print(caption)"
   ]
  },
  {
   "cell_type": "code",
   "execution_count": null,
   "id": "c1818ebc",
   "metadata": {
    "ExecuteTime": {
     "start_time": "2024-02-23T17:57:11.618859Z"
    }
   },
   "outputs": [],
   "source": []
  },
  {
   "cell_type": "code",
   "execution_count": null,
   "id": "f03181e7",
   "metadata": {},
   "outputs": [],
   "source": []
  },
  {
   "cell_type": "code",
   "execution_count": null,
   "id": "a612ea02",
   "metadata": {},
   "outputs": [],
   "source": []
  },
  {
   "cell_type": "code",
   "execution_count": null,
   "id": "9d680e83",
   "metadata": {},
   "outputs": [],
   "source": []
  }
 ],
 "metadata": {
  "kernelspec": {
   "display_name": "Python 3 (ipykernel)",
   "language": "python",
   "name": "python3"
  },
  "language_info": {
   "codemirror_mode": {
    "name": "ipython",
    "version": 3
   },
   "file_extension": ".py",
   "mimetype": "text/x-python",
   "name": "python",
   "nbconvert_exporter": "python",
   "pygments_lexer": "ipython3",
   "version": "3.10.9"
  }
 },
 "nbformat": 4,
 "nbformat_minor": 5
}
