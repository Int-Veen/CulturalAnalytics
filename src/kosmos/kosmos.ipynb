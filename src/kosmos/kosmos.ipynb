{
 "cells": [
  {
   "cell_type": "code",
   "execution_count": 26,
   "id": "6e8b59d9-d588-495d-8b7f-92790f54d7ed",
   "metadata": {
    "scrolled": false,
    "ExecuteTime": {
     "end_time": "2024-02-27T20:23:11.282571Z",
     "start_time": "2024-02-27T20:22:55.813589Z"
    }
   },
   "outputs": [
    {
     "name": "stderr",
     "output_type": "stream",
     "text": [
      "Special tokens have been added in the vocabulary, make sure the associated word embeddings are fine-tuned or trained.\n"
     ]
    }
   ],
   "source": [
    "from PIL import Image\n",
    "from transformers import AutoProcessor, Kosmos2ForConditionalGeneration\n",
    "import pandas as pd\n",
    "import time\n",
    "\n",
    "model = Kosmos2ForConditionalGeneration.from_pretrained(\"microsoft/kosmos-2-patch14-224\")\n",
    "processor = AutoProcessor.from_pretrained(\"microsoft/kosmos-2-patch14-224\")"
   ]
  },
  {
   "cell_type": "code",
   "execution_count": 27,
   "id": "a49fac59-b290-4e88-81a3-59d1136aba6a",
   "metadata": {
    "ExecuteTime": {
     "end_time": "2024-02-27T20:25:17.230588Z",
     "start_time": "2024-02-27T20:23:11.284386Z"
    }
   },
   "outputs": [
    {
     "name": "stdout",
     "output_type": "stream",
     "text": [
      "99\n",
      "75\n",
      "Elapsed: 125.89879393577576 seconds\n"
     ]
    }
   ],
   "source": [
    "#Daten einlesen\n",
    "df_aktbilder = pd.read_csv(\"../../data/filtered_genres_nude_painting.csv\")\n",
    "default_path = \"../../data/zielordner_nude_painting/\"\n",
    "\n",
    "prompt_result = []\n",
    "start = time.time()\n",
    "\n",
    "for filename in list(df_aktbilder.file_name)[:2]: #[1000:2000]\n",
    "    try: \n",
    "        path = default_path + filename\n",
    "        image = Image.open(path)\n",
    "    \n",
    "    \n",
    "        prompt = \"<grounding> Identify the number of people in the image. Describe their individual body posture and what they are doing. Also, provide a gender assessment for each person.\"\n",
    "        inputs = processor(text=prompt, images=image, return_tensors= \"pt\")\n",
    "        \n",
    "        generated_ids = model.generate(\n",
    "            pixel_values=inputs[\"pixel_values\"],\n",
    "            input_ids=inputs[\"input_ids\"],\n",
    "            attention_mask=inputs[\"attention_mask\"],\n",
    "            image_embeds=None,\n",
    "            image_embeds_position_mask=inputs[\"image_embeds_position_mask\"],\n",
    "            use_cache=True,\n",
    "            max_new_tokens=150,\n",
    "        )\n",
    "        generated_text = processor.batch_decode(generated_ids, skip_special_tokens=True)[0]\n",
    "        caption, entities = processor.post_process_generation(generated_text) \n",
    "        print(len(caption.split(\" \")))\n",
    "        \n",
    "        result = [filename, prompt.replace(\"<grounding> \",\"\"), caption.replace(prompt.replace(\"<grounding> \",\"\"),\"\")] \n",
    "        prompt_result.append(result)\n",
    "    except Exception as e:\n",
    "        print(f\"Fehler bei Datei: {filename}\")\n",
    "\n",
    "end = time.time()\n",
    "elapsed = end - start\n",
    "print(f\"Elapsed: {elapsed} seconds\")"
   ]
  },
  {
   "cell_type": "code",
   "outputs": [
    {
     "name": "stdout",
     "output_type": "stream",
     "text": [
      "[['3338-lo-scheggia-desco-da-parto-con-due-fanciulli-che-giocano.JPG!Large.JPG', 'Identify the number of people in the image. Describe their individual body posture and what they are doing. Also, provide a gender assessment for each person.', ' In the image, there are two naked boys standing next to each other, engaged in a playful activity. One boy is standing on the left side of the image and the other is on the right side. The boys are positioned in a circle, with the left boy facing the viewer and the right boy facing away. The scene is set in a dark room with a painting on the wall behind them.'], ['3341-lo-scheggia-reclining-youth-wga20987.jpg', 'Identify the number of people in the image. Describe their individual body posture and what they are doing. Also, provide a gender assessment for each person.', ' In the image, there are two people in a nude state. One person is lying down, and the other person is standing. The person lying down is holding a pillow, while the person standing is holding a book. The gender of the person lying on the ground is unknown.']]\n"
     ]
    }
   ],
   "source": [
    "print(prompt_result)\n",
    "df = pd.DataFrame(prompt_result)\n",
    "df.to_csv(\"/Users/int-veen/Documents/CulturalAnalytics/src/kosmos/prompt_result.csv\")"
   ],
   "metadata": {
    "collapsed": false,
    "ExecuteTime": {
     "end_time": "2024-02-27T20:25:17.254610Z",
     "start_time": "2024-02-27T20:25:17.240935Z"
    }
   },
   "id": "a459c59311d9293f",
   "execution_count": 28
  },
  {
   "cell_type": "code",
   "execution_count": 25,
   "id": "aab0252f-e8aa-40ae-80e5-3093e9232fd3",
   "metadata": {
    "ExecuteTime": {
     "end_time": "2024-02-27T20:11:23.985163Z",
     "start_time": "2024-02-27T20:11:23.979349Z"
    }
   },
   "outputs": [],
   "source": [
    "#from PIL import ImageDraw\n",
    "#for label, sentence_pos, coordinates in entities:\n",
    "#  for a,b,c,d in coordinates:\n",
    "#      draw = ImageDraw.Draw(image)\n",
    "#      w,h = image.size\n",
    "#      draw.text((a*w+5,b*h+5),label + f\" {sentence_pos}\", fill=\"black\")\n",
    "#      draw.text((a*w+4,b*h+4),label + f\" {sentence_pos}\", fill=\"white\")\n",
    "#      draw.rectangle((a*w,b*h,c*w,d*h), outline =\"red\", width=3)\n",
    "#      draw.rectangle((a*w,b*h,c*w,d*h), outline =\"white\", width=2)\n",
    "#      draw.rectangle((a*w,b*h,c*w,d*h), outline =\"black\", width=1)\n",
    "#image.show()\n",
    "#print(caption)"
   ]
  },
  {
   "cell_type": "code",
   "outputs": [],
   "source": [],
   "metadata": {
    "collapsed": false,
    "ExecuteTime": {
     "end_time": "2024-02-27T20:11:23.996201Z",
     "start_time": "2024-02-27T20:11:23.992378Z"
    }
   },
   "id": "5dc9a12e5e799845",
   "execution_count": 25
  },
  {
   "cell_type": "code",
   "outputs": [],
   "source": [],
   "metadata": {
    "collapsed": false
   },
   "id": "174c55e937b851bd"
  }
 ],
 "metadata": {
  "kernelspec": {
   "display_name": "Python 3 (ipykernel)",
   "language": "python",
   "name": "python3"
  },
  "language_info": {
   "codemirror_mode": {
    "name": "ipython",
    "version": 3
   },
   "file_extension": ".py",
   "mimetype": "text/x-python",
   "name": "python",
   "nbconvert_exporter": "python",
   "pygments_lexer": "ipython3",
   "version": "3.10.9"
  }
 },
 "nbformat": 4,
 "nbformat_minor": 5
}
